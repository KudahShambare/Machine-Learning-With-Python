{
 "cells": [
  {
   "cell_type": "markdown",
   "metadata": {},
   "source": [
    " Dataset URL https://www.kaggle.com/datasets/iabhishekofficial/mobile-price-classification?resource=download\n",
    "\n",
    "\n",
    "### Context\n",
    "\n",
    "Bob has started his own mobile company. He wants to give tough fight to big companies like Apple,Samsung etc.\n",
    "\n",
    "He does not know how to estimate price of mobiles his company creates. In this competitive mobile phone market you cannot simply assume things. To solve this problem he collects sales data of mobile phones of various companies.\n",
    "\n",
    "Bob wants to find out some relation between features of a mobile phone(eg:- RAM,Internal Memory etc) and its selling price. But he is not so good at Machine Learning. So he needs your help to solve this problem.\n",
    "\n",
    "In this problem you do not have to predict actual price but a price range indicating how high the price is\n",
    "\n",
    "\n",
    "### Columns Desscription (excluding id)\n",
    "\n",
    "1. battery_power -- Total energy a battery can store in one time measured in mAh\n",
    "2. blue --  Has bluetooth or not\n",
    "3. clock_speed -- speed at which microprocessor executes instructions\n",
    "4. dual_sim -- Has dual sim support or not\n",
    "5. fc -- Front Camera mega pixels\n",
    "6. four_g -- Has 4G or not\n",
    "7. int_memory -- Internal Memory in Gigabytes\n",
    "8. m_dep -- Mobile Depth in cm\n",
    "9. mobile_wt -- Weight of mobile phone\n",
    "10. n_cores -- Number of cores of processor\n",
    "11. pc -- Primary Camera mega pixels\n",
    "12. px_height -- Pixel Resolution Height\n",
    "13. px_width -- Pixel Resolution Width\n",
    "14. ram -- Random Access Memory in Megabytes\n",
    "15. sc_h -- Screen Height of mobile in cm\n",
    "16. sc_w -- Screen Width of mobile in cm\n",
    "17. talk_time -- longest time that a single battery charge will last when you are\n",
    "18. three_g -- Has 3G or not\n",
    "19. touch_screen -- Has touch screen \n",
    "20. wifi -- Has wifi or not\n",
    "21. price_range -- expected output \n",
    "\n",
    "#### Price Range Values:\n",
    "\n",
    "- 0 - low cost\n",
    "- 1 - medium cost\n",
    "- 2 - high cost\n",
    "- 3 - very high cost"
   ]
  },
  {
   "cell_type": "code",
   "execution_count": null,
   "metadata": {},
   "outputs": [],
   "source": [
    "%pip install scikit-learn\n"
   ]
  },
  {
   "cell_type": "code",
   "execution_count": 10,
   "metadata": {},
   "outputs": [],
   "source": [
    "#importing libraries\n",
    "\n",
    "from sklearn.svm import SVC\n",
    "from sklearn import metrics\n",
    "from sklearn.model_selection import train_test_split\n",
    "import pandas as pd;"
   ]
  },
  {
   "cell_type": "code",
   "execution_count": null,
   "metadata": {},
   "outputs": [],
   "source": [
    "#Reading the training data into python\n",
    "\n",
    "\n",
    "training = pd.read_csv(\"train.csv\")\n",
    "#training.head(10) #viewing the first 10 elements\n",
    "#training.tail(10)  #viewing the last 10 elements\n",
    "\n",
    "training.isnull().sum().sum() #counting missing values \n",
    "\n"
   ]
  },
  {
   "cell_type": "code",
   "execution_count": null,
   "metadata": {},
   "outputs": [],
   "source": [
    "#The dataset does not have labels so cannot be used for testing\n",
    "\n",
    "#Reading the testing data into python\n",
    "''''\n",
    "testing = pd.read_csv(\"test.csv\")\n",
    "#testing.head(10) #viewing the first 10 elements\n",
    "#testing.tail(10)  #viewing the last 10 elements\n",
    "\n",
    "testing.isnull().sum().sum() #counting missing values \n",
    "\n",
    "testing.head()\n",
    "\n",
    "'''"
   ]
  },
  {
   "cell_type": "code",
   "execution_count": null,
   "metadata": {},
   "outputs": [],
   "source": [
    "#Split the  training data into output and inpit\n",
    "\n",
    "input = training.drop(['price_range'],axis=1)\n",
    "output = training['price_range']\n",
    "\n",
    "output.shape, input.shape"
   ]
  },
  {
   "cell_type": "code",
   "execution_count": null,
   "metadata": {},
   "outputs": [],
   "source": [
    "'''\n",
    "#Split the  testing data into output and inpit\n",
    "\n",
    "test_input = testing.drop(['id'],axis=1)\n",
    "#test_output = testing['price_range']\n",
    "\n",
    "test_input.shape\n",
    "\n",
    "'''"
   ]
  },
  {
   "cell_type": "code",
   "execution_count": 9,
   "metadata": {},
   "outputs": [],
   "source": [
    "# dplit the dataset into training, validating and testing in the ratio 6:2:2\n",
    "\n",
    "# First split: training (60%) vs. validation + testing (40%)\n",
    "input_train, input_val_test, output_train, output_val_test = train_test_split(input, output, test_size=0.4, random_state=26)\n",
    "\n",
    "# Second split: validation (20%) vs. testing (20%)\n",
    "input_val, input_test, output_val, output_test = train_test_split(input_val_test, output_val_test, test_size=0.5, random_state=26)\n",
    "\n"
   ]
  },
  {
   "cell_type": "markdown",
   "metadata": {},
   "source": [
    "### Support Vector Machine Classifier"
   ]
  },
  {
   "cell_type": "code",
   "execution_count": null,
   "metadata": {},
   "outputs": [],
   "source": [
    "svm = SVC()\n",
    "\n",
    "svm.fit(input_train,output_train)\n",
    "\n",
    "#test model on validation data\n",
    "\n",
    "validation_prediction = svm.predict(input_val)\n",
    "\n",
    "validation_accuracy = metrics.accuracy_score(output_val,validation_prediction)\n",
    "\n",
    "print(\"Accurace:\",validation_accuracy)\n",
    "\n",
    "#validation_precision = metrics.precision_score(output_val,validation_prediction)\n",
    "\n",
    "#print(\"Precision\",validation_precision)\n",
    "\n",
    "\n",
    "\n",
    "\n"
   ]
  },
  {
   "cell_type": "code",
   "execution_count": 13,
   "metadata": {},
   "outputs": [
    {
     "name": "stdout",
     "output_type": "stream",
     "text": [
      "Accuracy on testing data: 0.9325\n"
     ]
    }
   ],
   "source": [
    "# test the model on testing data\n",
    "\n",
    "test_prediction = svm.predict(input_test)\n",
    "\n",
    "test_accuracy = metrics.accuracy_score(output_test,test_prediction)\n",
    "\n",
    "print(\"Accuracy on testing data:\",test_accuracy)"
   ]
  },
  {
   "cell_type": "code",
   "execution_count": null,
   "metadata": {},
   "outputs": [],
   "source": [
    "\n",
    "'''\n",
    "# ssave model results to a fie\n",
    "\n",
    "# Example: Create a DataFrame with Id and prediction columns\n",
    "submission = pd.DataFrame({\n",
    "    'Id': testing['id'],  # Replace 'Id' with the actual identifier column in your dataset (like PassengerId, etc.)\n",
    "    'Predicted': test_output\n",
    "})\n",
    "\n",
    "# Save the submission to a CSV file\n",
    "submission.to_csv('submission.csv', index=False)\n",
    "\n",
    "# Check the first few rows of the submission file\n",
    "submission.head()\n",
    "\n",
    "'''\n"
   ]
  }
 ],
 "metadata": {
  "kernelspec": {
   "display_name": "Python 3",
   "language": "python",
   "name": "python3"
  },
  "language_info": {
   "codemirror_mode": {
    "name": "ipython",
    "version": 3
   },
   "file_extension": ".py",
   "mimetype": "text/x-python",
   "name": "python",
   "nbconvert_exporter": "python",
   "pygments_lexer": "ipython3",
   "version": "3.12.4"
  }
 },
 "nbformat": 4,
 "nbformat_minor": 2
}
